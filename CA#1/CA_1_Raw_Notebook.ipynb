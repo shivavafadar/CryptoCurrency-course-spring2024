{
  "cells": [
    {
      "cell_type": "markdown",
      "metadata": {
        "id": "K2cvntedQvfm"
      },
      "source": [
        "# <center>CryptoCurrencies CA#1<center>\n",
        "<h1><center>Introduction to Cryptography<center></h1>\n",
        "\n",
        "#### <center>\"Morteza - Rashidkhan - 810899055\"<center>"
      ]
    },
    {
      "cell_type": "markdown",
      "metadata": {
        "id": "PseNUqv7Qvfp"
      },
      "source": [
        "## StoryLine:\n",
        "We have TinTin and Haddock on two seperate islands and they want to send messages to each other using morse codes!!    \n",
        "\n",
        "However, there is a problem over there. Roberto Rastapopoulos (Their enemy!) is listening to their conversation to figure out what they are saying to each other!    \n",
        "\n",
        "Now TinTin wants to use some encryption and decryption to ensure that Roberto couldn't understand what they are saying. Help TinTin to acheive his goal!"
      ]
    },
    {
      "cell_type": "markdown",
      "metadata": {
        "id": "VI2vSm1zQvfp"
      },
      "source": [
        "## Part 1: Symmetric Cryptography\n",
        "\n"
      ]
    },
    {
      "cell_type": "markdown",
      "metadata": {
        "id": "GkX9WMJ5Qvfq"
      },
      "source": [
        "**Important Note**: In all steps, use **AES-128** encryption method for encryption/decryption. You can use python cryptography libraries for this purpose."
      ]
    },
    {
      "cell_type": "markdown",
      "metadata": {
        "id": "9v_Q6C_4Qvfq"
      },
      "source": [
        "TinTin decided to design a symmetirc encryption scheme for his connection with haddock. He asked you to design it for him using these steps:"
      ]
    },
    {
      "cell_type": "code",
      "execution_count": 37,
      "metadata": {
        "id": "AJs4B9QYTMoS"
      },
      "outputs": [],
      "source": [
        "from cryptography.hazmat.primitives.ciphers import Cipher, algorithms, modes\n",
        "from cryptography.hazmat.primitives.padding import PKCS7\n",
        "from cryptography.hazmat.backends import default_backend\n",
        "from base64 import b64encode\n",
        "from base64 import b64decode\n",
        "import os"
      ]
    },
    {
      "cell_type": "code",
      "execution_count": 29,
      "metadata": {
        "id": "gyHXNPJ-Qvfq"
      },
      "outputs": [],
      "source": [
        "def symmetric_encryptor(input_message: str, key: str):\n",
        "  key_bytes = key.encode()\n",
        "  padder = PKCS7(algorithms.AES.block_size).padder()\n",
        "  padded_data = padder.update(input_message.encode()) + padder.finalize()\n",
        "\n",
        "  cipher = Cipher(algorithms.AES(key_bytes), modes.ECB(), backend=default_backend())\n",
        "  encryptor = cipher.encryptor()\n",
        "  encrypted_data = encryptor.update(padded_data) + encryptor.finalize()\n",
        "  cipher_text = b64encode(encrypted_data).decode('utf-8')\n",
        "  return cipher_text"
      ]
    },
    {
      "cell_type": "code",
      "execution_count": 30,
      "metadata": {
        "id": "a5nzn_w_Qvfr"
      },
      "outputs": [],
      "source": [
        "def symmetric_decryptor(input_ciphertext: str, key: str):\n",
        "  key_bytes = key.encode()\n",
        "  encrypted_data = b64decode(input_ciphertext)\n",
        "\n",
        "  cipher = Cipher(algorithms.AES(key_bytes), modes.ECB(), backend=default_backend())\n",
        "  decryptor = cipher.decryptor()\n",
        "  decrypted_padded_message = decryptor.update(encrypted_data) + decryptor.finalize()\n",
        "  unpadder = PKCS7(algorithms.AES.block_size).unpadder()\n",
        "  decrypted_message = unpadder.update(decrypted_padded_message) + unpadder.finalize()\n",
        "  return decrypted_message.decode('utf-8')"
      ]
    },
    {
      "cell_type": "code",
      "execution_count": 31,
      "metadata": {
        "id": "Yg8P_OMeQvfr"
      },
      "outputs": [],
      "source": [
        "def symmetric_verifier(plaintext: str, ciphertext: str, key: str):\n",
        "  decrypted_text = symmetric_decryptor(ciphertext, key)\n",
        "  return plaintext == decrypted_text"
      ]
    },
    {
      "cell_type": "markdown",
      "metadata": {
        "id": "m-LDPmGAQvfs"
      },
      "source": [
        "Now test your functions by encrypting & decrypting the ((confidential-message.txt)) file."
      ]
    },
    {
      "cell_type": "code",
      "execution_count": 41,
      "metadata": {
        "colab": {
          "base_uri": "https://localhost:8080/"
        },
        "id": "XArxzaYYQvfs",
        "outputId": "0d2a0fe1-b7af-4da7-fc2e-d611f6a2241a"
      },
      "outputs": [
        {
          "name": "stdout",
          "output_type": "stream",
          "text": [
            "Encrypted Message: vtAOn6M+fonkm2tPzrAQDBUdOAProOLQcnGlT3e+UAUXu9MONdUUfS3RsRfw5F+7PPLe5ewmHONYzmYMgfLDdYWjhykpWr7qdQdfbLr7Vrfet19pD7wcaWNn9cdUbTfodnzAPIF5SwxgPIGk9GfV+4+3Aoj5lkeVp92jnPxSU92AYdLcOYCZlVyD0C+cZKv58TZCebmQLSwPBpho7DFbvAW6GF69D5yS1Ulw87q0W80Yy8V9hL284v4QysrtZT0AWIdDjr6BheAfR7+hhpxSCCzPXZdtGu1nS5Z5fP0f7MB1fZpB2ocp+X5vA6h2X99QEMqyZzGQ8Fse0piClCFpt+VaPVKHFtTc3vxqpVzU8g5thpnwwqFKYTfbBNXQ5hH20XiC5mM6I+sdT/U5/O2+o0YABZbhl2Se07peLdwc68rAm+VwsFHLoqxv0Ff14D/21s+eBach44sD0CX5UQT4g6JAkC0MCAkaQTE8W91kUbAMxZi8NBZ2sO7aOGyB0ye67tn00ORZbMTsXJ9ZreowLE3yRvB5rqEpJcDt8ohlWjs6u+CY7HwQeHq3KW0OuaEvnWPvxC6bpXojWQ8RGq6NOkLpHaGu/UDpZmvYmNz8zes7CF7FoTo2hrJ0eLaGfuEuIu5Y6Q+pbl632R6hyy6J5BBYXypZGcCr3HaeJlq1cCtJEZf4qQsLcLNCqgvvhlHmuwhutYAS7p4n1COBaz+iH1RLe34C+H4Pyar76KlhCSWOauHknu4wHJ69z7pFnCvdujx396GuLMC3PCkAxX25N8rhAPUB1wGTTk3MkEl3UAgL4nBIu5cw49zu4pxt/s/6LcZpc23OMhbJfbwY62tYto55J1xThh5NIEzDh7iUl20+sgnQw4hRaYpB52/eBJVHa1FlodaIcOWpDb8rDXCNlmbUYR3ckY9siganptbeOkHHExZHH3tOndikrkria4936lsILWAqB8DRh5NKrQf3sgb4rfOGW9l3Sj2vDWPmp4krAuUwBDtCadOy6V5VoRh9hGiQ8TGjydWBi1f/OehYRz6ZA/QHh8MqOGhsfj/2Bo+q5CaZEm0L7q/bPcQafsGESL8pdfof2t2dpkQnXmpsZjSdqZzOKNuBCe5QnRKpmEtRUCHmLobD/nmeK48StZF3xz0cdHz30RrUa6kk/s9NGA==\n"
          ]
        }
      ],
      "source": [
        "import secrets\n",
        "file_path = 'Confidential-Message.txt'\n",
        "\n",
        "# Read data from the file\n",
        "with open(file_path, 'r') as file:\n",
        "    input_message = file.read()\n",
        "\n",
        "# Generate a random key (16 bytes) for encryption\n",
        "random_key = secrets.token_hex(16)\n",
        "\n",
        "# Encrypt the input message using the random key\n",
        "encrypted_message = symmetric_encryptor(input_message, random_key)\n",
        "print(\"Encrypted Message:\", encrypted_message)"
      ]
    },
    {
      "cell_type": "code",
      "execution_count": 43,
      "metadata": {
        "colab": {
          "base_uri": "https://localhost:8080/"
        },
        "id": "FGOUvW35Qvfs",
        "outputId": "161cfb16-83ec-4378-874b-bed03e746ec3"
      },
      "outputs": [
        {
          "name": "stdout",
          "output_type": "stream",
          "text": [
            "decrypted Message:\n",
            "From: Tintin\n",
            "To: Captain Haddock\n",
            "Date: August 13, 2023\n",
            "\n",
            "Subject: Top Secret Mission\n",
            "\n",
            "Dear Captain Haddock,\n",
            "\n",
            "I hope this message finds you well. I wanted to inform you about a top-secret mission we've been assigned by the authorities. Our task is to locate the hidden treasure of Red Rackham, which is believed to be buried on a remote island.\n",
            "\n",
            "For security reasons, I've attached a file containing the coordinates of the island's location and a map of the area. Please keep this information strictly confidential and do not share it with anyone else. We must ensure that our enemies do not get hold of this crucial data.\n",
            "\n",
            "To ensure the utmost secrecy, we will communicate using a secure channel and encryption techniques. Please let me know when you're ready to discuss our plan of action.\n",
            "\n",
            "Stay vigilant, my friend. Our adventure awaits.\n",
            "\n",
            "Yours in secrecy,\n",
            "\n",
            "Tintin\n"
          ]
        }
      ],
      "source": [
        "decrypted_message = symmetric_decryptor(encrypted_message , random_key)\n",
        "print(\"decrypted Message:\")\n",
        "print(decrypted_message)"
      ]
    },
    {
      "cell_type": "code",
      "execution_count": 44,
      "metadata": {
        "colab": {
          "base_uri": "https://localhost:8080/"
        },
        "id": "mp11Ui7xQvft",
        "outputId": "ee47cc06-6253-42f7-994f-e6188d11b8dd"
      },
      "outputs": [
        {
          "data": {
            "text/plain": [
              "True"
            ]
          },
          "execution_count": 44,
          "metadata": {},
          "output_type": "execute_result"
        }
      ],
      "source": [
        "symmetric_verifier(input_message, encrypted_message, random_key)"
      ]
    },
    {
      "cell_type": "markdown",
      "metadata": {
        "id": "Vza6fpeSQvft"
      },
      "source": [
        "## Part 2: Asymmetric Cryptography"
      ]
    },
    {
      "cell_type": "markdown",
      "metadata": {
        "id": "dn1ptpzdQvft"
      },
      "source": [
        "After TinTin found how to use symmetric encryption using a key, he faced another problem! How to share a key with haddock without letting Roberto finds it?        "
      ]
    },
    {
      "cell_type": "markdown",
      "metadata": {
        "id": "ViOOJ58_Qvft"
      },
      "source": [
        "Therefore, he decides to use an asymmetric crypto system.    \n",
        "help him to acheive his goal by writing a program which:"
      ]
    },
    {
      "cell_type": "code",
      "execution_count": 1,
      "metadata": {
        "id": "PXjDzXsMdsPH"
      },
      "outputs": [],
      "source": [
        "from cryptography.hazmat.primitives.asymmetric import rsa\n",
        "from cryptography.hazmat.primitives import serialization\n",
        "from cryptography.hazmat.primitives.asymmetric import padding\n",
        "from cryptography.hazmat.primitives import hashes\n",
        "import math"
      ]
    },
    {
      "cell_type": "code",
      "execution_count": 2,
      "metadata": {
        "id": "aZ5bi8rxQvft"
      },
      "outputs": [],
      "source": [
        "def RSA_key_generator():\n",
        "    private_key = rsa.generate_private_key(\n",
        "        public_exponent=65537,\n",
        "        key_size=8192\n",
        "    )\n",
        "    public_key = private_key.public_key()\n",
        "\n",
        "    private_key_pem = private_key.private_bytes(\n",
        "    encoding=serialization.Encoding.PEM,\n",
        "    format=serialization.PrivateFormat.TraditionalOpenSSL,\n",
        "    encryption_algorithm=serialization.NoEncryption()\n",
        "    )\n",
        "\n",
        "    public_key_pem = public_key.public_bytes(\n",
        "    encoding=serialization.Encoding.PEM,\n",
        "    format=serialization.PublicFormat.SubjectPublicKeyInfo\n",
        "  )\n",
        "\n",
        "    return private_key_pem, public_key_pem\n"
      ]
    },
    {
      "cell_type": "code",
      "execution_count": 3,
      "metadata": {
        "id": "768NgbI2Qvft"
      },
      "outputs": [],
      "source": [
        "def asymmteric_encryptor(public_key_pem:str, input_message:str):\n",
        "    public_key = serialization.load_pem_public_key(\n",
        "        public_key_pem)\n",
        "\n",
        "    ciphertext = public_key.encrypt(\n",
        "    input_message,\n",
        "    padding.OAEP(\n",
        "        mgf=padding.MGF1(algorithm=hashes.SHA256()),\n",
        "        algorithm=hashes.SHA256(),\n",
        "        label=None\n",
        "    )\n",
        ")\n",
        "\n",
        "    return ciphertext"
      ]
    },
    {
      "cell_type": "code",
      "execution_count": 4,
      "metadata": {
        "id": "ZBqqqQnkQvfu"
      },
      "outputs": [],
      "source": [
        "def asymmetric_decryptor(private_key_pem:str, ciphertext:str):\n",
        "    private_key = serialization.load_pem_private_key(\n",
        "        private_key_pem,\n",
        "        password=None\n",
        "    )\n",
        "    decrypted = private_key.decrypt(\n",
        "        ciphertext,\n",
        "        padding.OAEP(\n",
        "            mgf=padding.MGF1(algorithm=hashes.SHA256()),\n",
        "            algorithm=hashes.SHA256(),\n",
        "            label=None\n",
        "        )\n",
        "    ).decode()\n",
        "\n",
        "    return decrypted"
      ]
    },
    {
      "cell_type": "code",
      "execution_count": 5,
      "metadata": {
        "id": "a7M_psSbQvfu"
      },
      "outputs": [],
      "source": [
        "def symmetric_verifier(plaintext:str, ciphertext:str, private_key:str):\n",
        "    decrypted_message = asymmetric_decryptor(private_key, ciphertext)\n",
        "    return decrypted_message == plaintext\n"
      ]
    },
    {
      "cell_type": "markdown",
      "metadata": {
        "id": "te5EW8XbQvfu"
      },
      "source": [
        "Now test your functions by encrypting & decrypting the ((confidential-message.txt)) file again using new asummetric functions."
      ]
    },
    {
      "cell_type": "code",
      "execution_count": 6,
      "metadata": {
        "colab": {
          "base_uri": "https://localhost:8080/"
        },
        "id": "9HBSBt_6Qvfu",
        "outputId": "32ff85d7-a4fb-4384-ca6d-6f0082d883a5"
      },
      "outputs": [
        {
          "name": "stdout",
          "output_type": "stream",
          "text": [
            "Encrypted Message: b'Z\\xb7E\\xb6\\x14\\xff:yZ\\xcc\\xd3\\xfa\\xc5\\x9bvX4+p\\xbf\\xdaX\\xda\\x04\\xa6\\xc8\\xdc\\xd6/\\x10\\x0fyJ\\x1e\\xe9\\xf0\\x85$CB\\x89u\\xb6\\xcf\\x17\\xfa\\x85z5k~\\xd7>\\xed\\xee\\x8du0f\\x8fty\\xd3\\xec\\xeb\\xfa\\x0b\\\\\\xb7\\x9eW\\xb0\\x81\\xea=h\\xd6\\xd9\\xe1\\xa43HIC1\\x8a\\xfaR\\xf4\\\\\\xfa\\xb7RUc\\x1a\\x18\\xea\\x1c\\xfe\\xda\\xf5~\\x1f\\x9f\\xbe\\xeb\\x99\\x89J\\x80\\xc0\\x95@)\\x04/\\xef\\xc2l\\x95]\\x92\\x93(Z\\x9c\\xae\\xe9\\x8d\\xaa\\xc1<\\x00\\xbf\\x1d\\x1e\\xe1\\xce\\xc4\\xa6F\\xa0p\\xcdOoe{q\\x0b\\x89$\\x8a\\x8a\\x16\\xb3\\xc2\\x07:\\xf1>$\\x10_\\xe0\\xeb>\\x15\\xef\\xfb6>9\\xb8i\\xc0\\xdc\\xb0\\xe5\\x9bz\\xf4\\x94l\\xd1\\x1f\\xa3\\x19\\xf6>\\xf3\\xfa\\x18\\xf3.:\\xf5\\x12V\\x7f\\x0c\\xab\\xf7\\xb7\\xe3\\xb0\\x81S\\xb0:\\xd5;,?\\xa3 \\x98\\x9e\\xa6\\xe9s\\xa4+\\xd6\\xf4\\x1eG\\xa7~^\\xfc\\xb0\\xb8\\xc7\\x93\\xbf\\x1c7ib\\xff\\xa3\\xe6\\xcc\\'\\x98J\\x90D\\x19\\x04\\xf6\\xff\\x03M\\xb5>\\x99\\xe0\\x94\\xb1\\xa1bQ\\xe0\\x98\\x82\\xf3,\\xfa\\x82\\xf1@\\xaf\\x9a\\x90\\x92z\\xac\\xba\\x10\\xfdPA\\x11\\xa6v\\x13\\x93jf\\x96\\xf9\\xacJ\\xcc\\xbd\\x0f\\x04G\\x8c\\xcb\\xda\\xf6\\xd4\\xcf\\x13?\\x94\\x18,\\xb1\\x1fAR!\\xc0\\xc4U\\xc1\\x13m\\x90\\x8et\\x94\\xd9\\x7f\\xbcJ\\x1d\\x83io\\x88\\xa8a\\xa7\\xa3k\\x8b0\\x84\\x90\\xd7N\\x1f\\xa8P\\x146\\x8b\\tK5\\x08\\x00-\\xfa\\xe0\\xde\\xdc\\xe5\\xc5\\x02\\xfd*\\x10\\x1a\\x88\\x0b\\x88-6\\x98\\xc4\\xe9\\xe5t\\x10\\xaa\\x98|\\xe7\\xca\\xf7\\xc2A\\x89v|-\\xf6\\xd9M\\x15\\x81\\x16d\\x85\\x13\\x96\\xfa\\xed\\xe7\\x90\\x91YU\\xee\\x05J\\x94\\x13\\xd5\\xbbm[\\x07\\xefd\\xea\\xf9\\x99\\xe7\\xc6\\xf6V\\xdb\\xc1\\xdb\\x1d\\x90\\xe7\\xe08JbX\\x00\\x1a\\x91\\x8f\\xd5^\\xa8>Xd\\xe02\\xac\\x0f\\x14\\x9e\\x8a\\xa4I\\x8d\\xd0\\xb2\\xa0\\xb5\\x1a\\x89\\xb8\\x95\\xb7\\x85Q=\\x9c#\\xc5\\xf8\\xe4F@\\xb3$\\xfb>\\xba\\xb6\\xdf\\xe9#\\x0f\\xdc\\xd1O!\\x8a0\\xc9\\xfa\\x85\\xe3\\nJ\\x1fR\\x91\\x91\\xc7\\xf9\\xa3\\x8f\\x8b\\xf1Z\\x9a0\\xdebZ\\xce\\xdd\\x08f\\x1cT7\\x9e\\xbf\\x00Z\\xf9R\\x02\\xbb\\xfa\\xf3\\x03\\xbd\\xb7\\xd1\\xbaUx@\\xd0K\\xc7A\\x8d\\xda2m%\\x9a\\x1f\\xb8\\xd6K\\xd4\\x90\\xb0\\xd1\\xbaA\\xbc\\xcdsF\\x81\\x13>\\xc7\\xbd$\\xfd\\xc4Us>\\xea\\xf8C\\xc8\\x08\\'+.\\xd2~U`SI\\t\\xbf\\t\\xfag\\xc5\\x07\\x8f\\' #\\xf3\\x9c7S\\x9e\\\\SN\\x00\\xe5\\xa2\\xbf=\\xd2gf\\xccs\\xa5W\\xf7\\x009\\xf8\\xf0\\xa7\\x90\\xe5\\xe8<\\xada\\x01oRUn\\xe14R\\xf2\\x9e\\xe2\\xc9Q$\\xbf\\x97\\xc9T\\xd4c_\\xf9H\\xa5\\xd8sJ\\xfa6\\xd9\\x17\\x8d=\\x01\\xb9\\xc5\\xb3\"o\\xb2u\\xe3\\xf3\\x1em\\xd7{\\x02\\xde!\\x19\\xfd\\xf6\\x1f}\\xc1$\\xee g\\xb2\\xfa$/v8\\x88\\x00\\x19\\xc0\\xcf\\xec\\x9a\\xc3\\x16\\xc5\\xc1\\xd06\\xb5\\xb9D\\x1d\\x93?9\\xd2\\xec\\x95\\x1d\\x9c\\xa9\\xa84\\x95^\\xfb.z(/\\xd7\\xc2*\\xab\\xd6\\xa2\\xf3\\\\\\x1bs\\xe2\\x10/C\\xf7fHI\\xcfw\\xea[\\xcc\\xcf\\xa8*\\xe9:\\xd5\\xbe\\x1e\\xd5\\xaa\\x95\\xb8\\x92\\xe9\\x9ac\\x9el\\x0f\\xfd\\xb7\\xa2\\x8f\\x02\\xa2\\x1b\\x8e\\xbf\\xb2,\\xb2\\x95u\\x1d\\r\\xa9\\xa7-\\x99\\x0bLt\\xe1\\xb2q\\x99d\\x03.s`\\x02Lt\\xc9a\\x15\\x1eg\\x81\\xa8\\xa71Z\\xd9\\x981!/\\xba\\xe6\\x81\\xd9Hw\\n\\xc2\\x00\\xb1\\xf4p)\\xccE8\\xff\\xbdI\\r#DK~\\xfc\\xbd%\\xfe\\xc0k<\\xfd\\xf2\\xfd2p6\\x819\\xc8e\\xed-\\xee&\\x83\\xe0\\x8cv\\x08\\x97rk6h\\xc9\\x17\\x8f_a\\xfd\\xaaO\\x7fsT#\\xe1\\x15\\x88(e^\\x97MO\\xf2\\n\\xd1\\xbc\\xb6\\x1dK\\xd5\\xee\\xce\\x85B\\xdbj\\xd5=\\xaa\\xa0c\\xab\\x13A\\xdd\\x04\\xba\\x025/\\x7f\\xceu\\x17f\\x05\\x9d\\x98\\xb5\\x81\\xe1\\xba\\xdb\\x96\\xa9\\x82\\x82\\xad\\xc6/\\x1ceX:\\xd0PoZEs\\xcdf{Z\\xc2\\xa9@\\x93\\xc9\\xbe\\xab\\\\yM\\x03\\xf4\\xca$5\\xe3\\xdf4\\xc8\\x9e\\x81<\\xa1(ls\\xd4\\xe2\\x07\\xaa\\xc9\\x8a\\xea\\x0e%\\xb9\\x9a\\xa1\\x00\\x7f]d\\xf8-\\xf3\\xdd\\x0b\\xd9e\\xb8\\xf4E\\xa11\\xf2\\'vk`'\n"
          ]
        }
      ],
      "source": [
        "file_path = 'Confidential-Message.txt'\n",
        "\n",
        "# Read data from the file\n",
        "with open(file_path, 'rb') as file:\n",
        "    message = file.read()\n",
        "\n",
        "input_message = message\n",
        "private_key, public_key = RSA_key_generator()\n",
        "encrypted_message2 = asymmteric_encryptor(public_key, input_message)\n",
        "print(\"Encrypted Message:\", encrypted_message2)"
      ]
    },
    {
      "cell_type": "code",
      "execution_count": 7,
      "metadata": {
        "colab": {
          "base_uri": "https://localhost:8080/"
        },
        "id": "fQUJ4XDPQvfu",
        "outputId": "7781600b-409f-47c7-ece6-eb5ac85baf96"
      },
      "outputs": [
        {
          "data": {
            "text/plain": [
              "True"
            ]
          },
          "execution_count": 7,
          "metadata": {},
          "output_type": "execute_result"
        }
      ],
      "source": [
        "symmetric_verifier(input_message.decode(), encrypted_message2, private_key)"
      ]
    },
    {
      "cell_type": "markdown",
      "metadata": {
        "id": "VbRFAlfUQvfu"
      },
      "source": [
        "## Part 3: Digital signature"
      ]
    },
    {
      "cell_type": "markdown",
      "metadata": {
        "id": "QohTa25EQvfu"
      },
      "source": [
        "Write a function to sign a given message in the text file (Confidentail message) using private key which was made in the part 2.   \n",
        "You have to sign the hash of the message, not the whole message (why?). (Use SHA-256 for hashing)"
      ]
    },
    {
      "cell_type": "code",
      "execution_count": 8,
      "metadata": {
        "id": "tJgPbplJQvfv"
      },
      "outputs": [],
      "source": [
        "def sign_message(private_key_pem:str, input_message: str):\n",
        "    private_key = serialization.load_pem_private_key(\n",
        "          private_key_pem,\n",
        "          password=None\n",
        "      )\n",
        "    chosen_hash = hashes.SHA256()\n",
        "    hasher = hashes.Hash(chosen_hash)\n",
        "    hasher.update(input_message)\n",
        "    message = hasher.finalize()\n",
        "    signature = private_key.sign(\n",
        "    message,\n",
        "    padding.PSS(\n",
        "        mgf=padding.MGF1(hashes.SHA256()),\n",
        "        salt_length=padding.PSS.MAX_LENGTH\n",
        "    ),\n",
        "    hashes.SHA256()\n",
        ")\n",
        "    return signature"
      ]
    },
    {
      "cell_type": "markdown",
      "metadata": {
        "id": "SP0dejPoOINP"
      },
      "source": [
        "<div dir='rtl'>\n",
        "\n",
        "افزایش سرعت با کاهش طول پیام:\n",
        "\n",
        "اگر بخواهیم کل پیام را امضا کنیم طول امضا ممکن است با توجه به طول پیام شود.اما اگر پیام را هش کنیم طول آن ثابت می شود و سرعت و کارایی بالاتر می رود.\n",
        "\n",
        "امنیت:\n",
        "\n",
        "هش کردن پیام در امنیت نیز نقش بسزایی دارد زیرا باعث می شود محتوای پیام ها از چشم افراد مخفی بماند.\n",
        "<div/>"
      ]
    },
    {
      "cell_type": "code",
      "execution_count": 9,
      "metadata": {
        "id": "8GIv-rxAQvfv"
      },
      "outputs": [],
      "source": [
        "def message_verification(input_message:str, signature:str, public_key_pem:str):\n",
        "  public_key = serialization.load_pem_public_key(\n",
        "        public_key_pem)\n",
        "  chosen_hash = hashes.SHA256()\n",
        "  hasher = hashes.Hash(chosen_hash)\n",
        "  hasher.update(input_message)\n",
        "  message = hasher.finalize()\n",
        "  try:\n",
        "    public_key.verify(\n",
        "      signature,\n",
        "      message,\n",
        "      padding.PSS(\n",
        "          mgf=padding.MGF1(hashes.SHA256()),\n",
        "          salt_length=padding.PSS.MAX_LENGTH\n",
        "      ),\n",
        "      hashes.SHA256()\n",
        "    )\n",
        "    return True\n",
        "  except (ValueError, TypeError):\n",
        "    return False\n"
      ]
    },
    {
      "cell_type": "markdown",
      "metadata": {
        "id": "OYrY9ghTIfNf"
      },
      "source": [
        "Now test your functions by signing and verifying."
      ]
    },
    {
      "cell_type": "code",
      "execution_count": 10,
      "metadata": {
        "id": "dTphzMy5IeyW"
      },
      "outputs": [],
      "source": [
        "sign_msg = sign_message(private_key, input_message)"
      ]
    },
    {
      "cell_type": "code",
      "execution_count": 11,
      "metadata": {
        "colab": {
          "base_uri": "https://localhost:8080/"
        },
        "id": "dPwR68rsKlBL",
        "outputId": "d7628b6d-f868-44b1-e2c2-8bd882bc23f3"
      },
      "outputs": [
        {
          "name": "stdout",
          "output_type": "stream",
          "text": [
            "True\n"
          ]
        }
      ],
      "source": [
        "print(message_verification(input_message, sign_msg, public_key))"
      ]
    },
    {
      "cell_type": "markdown",
      "metadata": {
        "id": "786HQluiPWal"
      },
      "source": [
        "<div dir='rtl'>\n",
        "پیغام MAC (Message Authentication Code) و HMAC (Hash-based Message Authentication Code) هر دو ابزارهای امنیتی هستند که برای تضمین اعتبار و اصالت داده‌ها در فرآیندهای ارسال و دریافت اطلاعات استفاده می‌شوند. این ابزارها برای جلوگیری از تزویر و تغییرات غیرمجاز در اطلاعات مورد استفاده قرار می‌گیرند.\n",
        "\n",
        "1. **پیغام MAC (Message Authentication Code)**:\n",
        "   - یک کد تأیید متصل به یک پیام است که با استفاده از یک کلید اشتراکی بین فرستنده و گیرنده تولید می‌شود.\n",
        "   - از الگوریتم‌های تابع هش استفاده می‌کند تا یک مقدار تابع هش از پیام و کلید را تولید کند. این کد تأیید برای تأیید اصالت و اعتبار پیام استفاده می‌شود.\n",
        "   - کاربردهای آن در پیامرسانی امن شامل اعتبارسنجی پیام‌ها، حفاظت از اطلاعات در مقابل حملات تزویر، و اطمینان از اینکه پیام ارسالی توسط فرد مورد نظر صادر شده است، می‌باشد.\n",
        "\n",
        "2. **HMAC (Hash-based Message Authentication Code)**:\n",
        "   - یک نوع خاص از پیغام MAC است که بر پایه تابع هش است.\n",
        "   - از یک تابع هش به عنوان الگوریتم امضایی استفاده می‌کند تا اعتبار و اصالت پیام را تأیید کند.\n",
        "   - با استفاده از دو کلید (یک کلید خصوصی و یک کلید عمومی) کار می‌کند. کلید خصوصی برای امضای پیام و کلید عمومی برای تأیید امضای پیام استفاده می‌شود.\n",
        "   - کاربردهای HMAC در پیامرسانی امن شامل امضای داده‌های مرسله، اعتبارسنجی هویت ارسال کننده، و ارتقاء امنیت اطلاعات ارسالی با استفاده از امضای دیجیتال است.\n",
        "\n",
        "در کل، هر دو پیغام MAC و HMAC برای اطمینان از امنیت و اعتماد در فرآیندهای ارسال و دریافت اطلاعات استفاده می‌شوند و از تکنیک‌های رمزنگاری قوی برای تأیید اصالت و اعتبار پیام‌ها استفاده می‌کنند.\n",
        "<div/>"
      ]
    }
  ],
  "metadata": {
    "colab": {
      "provenance": []
    },
    "kernelspec": {
      "display_name": "Python 3",
      "language": "python",
      "name": "python3"
    },
    "language_info": {
      "codemirror_mode": {
        "name": "ipython",
        "version": 3
      },
      "file_extension": ".py",
      "mimetype": "text/x-python",
      "name": "python",
      "nbconvert_exporter": "python",
      "pygments_lexer": "ipython3",
      "version": "3.9.6"
    },
    "orig_nbformat": 4
  },
  "nbformat": 4,
  "nbformat_minor": 0
}
