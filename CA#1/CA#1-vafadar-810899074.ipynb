{
 "cells": [
  {
   "cell_type": "markdown",
   "metadata": {},
   "source": [
    "# <center>CryptoCurrencies CA#1<center>\n",
    "<h1><center>Introduction to Cryptography<center></h1>\n",
    "\n",
    "#### <center>\"Shiva - Vafadar\"<center>"
   ]
  },
  {
   "cell_type": "markdown",
   "metadata": {},
   "source": [
    "## StoryLine:\n",
    "We have TinTin and Haddock on two seperate islands and they want to send messages to each other using morse codes!!    \n",
    "\n",
    "However, there is a problem over there. Roberto Rastapopoulos (Their enemy!) is listening to their conversation to figure out what they are saying to each other!    \n",
    "\n",
    "Now TinTin wants to use some encryption and decryption to ensure that Roberto couldn't understand what they are saying. Help TinTin to acheive his goal!"
   ]
  },
  {
   "cell_type": "markdown",
   "metadata": {},
   "source": [
    "## Part 1: Symmetric Cryptography\n",
    "\n"
   ]
  },
  {
   "cell_type": "markdown",
   "metadata": {},
   "source": [
    "**Important Note**: In all steps, use **AES-128** encryption method for encryption/decryption. You can use python cryptography libraries for this purpose."
   ]
  },
  {
   "cell_type": "markdown",
   "metadata": {},
   "source": [
    "TinTin decided to design a symmetirc encryption scheme for his connection with haddock. He asked you to design it for him using these steps:"
   ]
  },
  {
   "cell_type": "code",
   "execution_count": 208,
   "metadata": {},
   "outputs": [
    {
     "name": "stdout",
     "output_type": "stream",
     "text": [
      "Defaulting to user installation because normal site-packages is not writeable\n",
      "Requirement already satisfied: cryptography in /Users/shivavafadar/Library/Python/3.9/lib/python/site-packages (42.0.5)\n",
      "Requirement already satisfied: cffi>=1.12 in /Users/shivavafadar/Library/Python/3.9/lib/python/site-packages (from cryptography) (1.16.0)\n",
      "Requirement already satisfied: pycparser in /Users/shivavafadar/Library/Python/3.9/lib/python/site-packages (from cffi>=1.12->cryptography) (2.22)\n",
      "\u001b[33mWARNING: You are using pip version 21.2.4; however, version 24.0 is available.\n",
      "You should consider upgrading via the '/Library/Developer/CommandLineTools/usr/bin/python3 -m pip install --upgrade pip' command.\u001b[0m\n",
      "Note: you may need to restart the kernel to use updated packages.\n"
     ]
    }
   ],
   "source": [
    "pip install cryptography"
   ]
  },
  {
   "cell_type": "code",
   "execution_count": 209,
   "metadata": {},
   "outputs": [],
   "source": [
    "from cryptography.hazmat.primitives.ciphers import Cipher, algorithms, modes\n",
    "from cryptography.hazmat.backends import default_backend\n",
    "from cryptography.hazmat.primitives import padding\n",
    "from base64 import b64encode, b64decode\n",
    "import os"
   ]
  },
  {
   "cell_type": "code",
   "execution_count": 210,
   "metadata": {},
   "outputs": [],
   "source": [
    "def symmetric_encryptor(input_message:str , key:bytes):\n",
    "    # Initialize the cipher object with the key and AES mode in ECB mode\n",
    "    cipher = Cipher(algorithms.AES(key), modes.ECB(), backend=default_backend())\n",
    "\n",
    "    # Pad the input message to multiples of 16 bytes (AES block size)\n",
    "    padder = padding.PKCS7(algorithms.AES.block_size).padder()\n",
    "    padded_message = padder.update(input_message.encode()) + padder.finalize()\n",
    "\n",
    "    # Encrypt the padded message\n",
    "    encryptor = cipher.encryptor()\n",
    "    encrypted_message = encryptor.update(padded_message) + encryptor.finalize()\n",
    "\n",
    "    # Encode the encrypted message in base64 for readability\n",
    "    cipher_text = b64encode(encrypted_message).decode()\n",
    "\n",
    "    return cipher_text"
   ]
  },
  {
   "cell_type": "code",
   "execution_count": 211,
   "metadata": {},
   "outputs": [],
   "source": [
    "def symmetric_decryptor(input_ciphertext:str , key:bytes):\n",
    "    # Initialize the cipher object with the key and AES mode in ECB mode\n",
    "    cipher = Cipher(algorithms.AES(key), modes.ECB(), backend=default_backend())\n",
    "\n",
    "    # Decode the base64 encrypted message\n",
    "    encrypted_message = b64decode(input_ciphertext)\n",
    "\n",
    "    # Decrypt the encrypted message\n",
    "    decryptor = cipher.decryptor()\n",
    "    decrypted_message = decryptor.update(encrypted_message) + decryptor.finalize()\n",
    "\n",
    "    # Unpad the decrypted message\n",
    "    unpadder = padding.PKCS7(algorithms.AES.block_size).unpadder()\n",
    "    plain_text = unpadder.update(decrypted_message) + unpadder.finalize()\n",
    "\n",
    "    # Decode the plaintext message\n",
    "    plain_text = plain_text.decode()\n",
    "\n",
    "    return plain_text\n"
   ]
  },
  {
   "cell_type": "code",
   "execution_count": 212,
   "metadata": {},
   "outputs": [],
   "source": [
    "def symmetric_verifier(plaintext:str, ciphertext:str, key:bytes):\n",
    "    # Verify the correctness of the decryption process by\n",
    "    # comparing the original message with the decrypted message.\n",
    "    # Output should be a boolean (True or False)\n",
    "\n",
    "    result = symmetric_decryptor(ciphertext , key)\n",
    "    if result == plaintext:\n",
    "        return True\n",
    "    else:\n",
    "        return False"
   ]
  },
  {
   "cell_type": "markdown",
   "metadata": {},
   "source": [
    "Now test your functions by encrypting & decrypting the ((confidential-message.txt)) file."
   ]
  },
  {
   "cell_type": "code",
   "execution_count": 213,
   "metadata": {},
   "outputs": [
    {
     "name": "stdout",
     "output_type": "stream",
     "text": [
      "Encrypted Message: C8TNdNMgJUBFsB6iMbDiN06HEktQhJdoAqORUZ+fefKbLPC7eMufCFT4XtvcN9csgkryHELJNstmM/6860Ezi/Hp9USEPqOFuob/vZgVfAAxbbtNxzRmfzeGKIEAcX5PTPJqxNMsiidLndzbJxzOwm2IWOCEDz110Zt7DTyGPEG5MpT6G3bpw850C7kGlC+fef20TPruiw3dGkFFrpVWpB7vSKXbnkH0yGb3VrijnYsjKPpeZo+wiY4pEdt3gNzAhX5EjH1o57sGIPxOg0CyMOIh1zAS6xRx81wetrjpATHhPXy2YmV0/wBwqa2nLwHlksVHV3GAI5YRzlZk1QoahFKxvx7EBZhfoFdQ/PpL7xyEetdJieV17Fl8Jl5BzSkb9f5kkcasen7wFqa6NUKInz0LY91uIWq9M5jjnoc4U4Hy7PhARR2SZn+DSCRpe/fywKcb2M8Lhyss9Erw8l1v+2H4SoCk6bolh1DtwLUmleYQYf0DMePz+t6qLzqHpspKdTJjxV3RFr6pZnBg4VYi4CM2uX0PqOh+HQItDUBB4WG7W8kgwuaS12MWyv2JcmCyFCVD81scv8rj2yfruLFE2EwsZxl+lK2aVKmE/6NmvnkSj9u7iDbVgqtXuuHYqKT74y6Jzw37FXzLVdnCiRaenv0CCxqo87TtE/X1SKVErFHla9slKZ6EvRyJrt0OEdHH8eeVxQ12tFdGqjbgeMHv2l2Gyrn1Vzu568J1JNCOPpsWRZZJScjIHzj8n2v1q5zLknnv1FZLSrsdY8+9NUvOGZqxQH7L8CVjd1qWxg0vsJIY8txQOG+yTHqFdJrqDbNVucNVOWxO/V04OyiP0ZCAYGM15dX9GPACfc/wUTFPweYLuFncwHYghjWjETr9gutNuYjG5HAbrCsnhWSo3BerTE/AZsU+4Kt0OCN4sU5T2AZuPebVC+WiZc1e4Gtti4/ivZRNnn9Sb9Up4lla4fvkkr0tfydGkDowkL0CwDGWpcIa/5moTshA1kfspiwifTdg4Ot6LMvvAkpvB6erWhlcuGqlCA2jM65Ue6hoA3kvNZgKBY8zOnBrL7W0kH7WEXpntbVo4GDNmU9nGMgdQ96lpIxsQGnIc3fZu/mlxqE1H3Sw97ZnSaLsdPlMM8+r+qtLSbYFMHgO9KaCqvd97IeimQ==\n"
     ]
    }
   ],
   "source": [
    "random_key = os.urandom(16)\n",
    "\n",
    "# Read data from the file\n",
    "with open('confidential-message.txt', 'r') as file:\n",
    "    input_message = file.read()\n",
    "\n",
    "# Test encryption code:\n",
    "encrypted_message = symmetric_encryptor(input_message, random_key)\n",
    "print(\"Encrypted Message:\", encrypted_message)\n"
   ]
  },
  {
   "cell_type": "code",
   "execution_count": 214,
   "metadata": {},
   "outputs": [
    {
     "name": "stdout",
     "output_type": "stream",
     "text": [
      "Decrypted Message: From: Tintin\n",
      "To: Captain Haddock\n",
      "Date: August 13, 2023\n",
      "\n",
      "Subject: Top Secret Mission\n",
      "\n",
      "Dear Captain Haddock,\n",
      "\n",
      "I hope this message finds you well. I wanted to inform you about a top-secret mission we've been assigned by the authorities. Our task is to locate the hidden treasure of Red Rackham, which is believed to be buried on a remote island.\n",
      "\n",
      "For security reasons, I've attached a file containing the coordinates of the island's location and a map of the area. Please keep this information strictly confidential and do not share it with anyone else. We must ensure that our enemies do not get hold of this crucial data.\n",
      "\n",
      "To ensure the utmost secrecy, we will communicate using a secure channel and encryption techniques. Please let me know when you're ready to discuss our plan of action.\n",
      "\n",
      "Stay vigilant, my friend. Our adventure awaits.\n",
      "\n",
      "Yours in secrecy,\n",
      "\n",
      "Tintin\n"
     ]
    }
   ],
   "source": [
    "# Test decryption code:\n",
    "decrypted_message = symmetric_decryptor(encrypted_message, random_key)\n",
    "print(\"Decrypted Message:\", decrypted_message)"
   ]
  },
  {
   "cell_type": "code",
   "execution_count": 215,
   "metadata": {},
   "outputs": [
    {
     "name": "stdout",
     "output_type": "stream",
     "text": [
      "Verification result: True\n"
     ]
    }
   ],
   "source": [
    "# Test verification code:\n",
    "result = symmetric_verifier(input_message, encrypted_message, random_key)\n",
    "print(\"Verification result:\", result)"
   ]
  },
  {
   "cell_type": "markdown",
   "metadata": {},
   "source": [
    "## Part 2: Asymmetric Cryptography"
   ]
  },
  {
   "cell_type": "markdown",
   "metadata": {},
   "source": [
    "After TinTin found how to use symmetric encryption using a key, he faced another problem! How to share a key with haddock without letting Roberto finds it?        "
   ]
  },
  {
   "cell_type": "markdown",
   "metadata": {},
   "source": [
    "Therefore, he decides to use an asymmetric crypto system.    \n",
    "help him to acheive his goal by writing a program which:"
   ]
  },
  {
   "cell_type": "code",
   "execution_count": 18,
   "metadata": {},
   "outputs": [],
   "source": [
    "from cryptography.hazmat.primitives import serialization\n",
    "from cryptography.hazmat.backends import default_backend\n",
    "from base64 import b64encode, b64decode\n",
    "from cryptography.hazmat.primitives.asymmetric.padding import OAEP, MGF1\n",
    "from cryptography.hazmat.primitives.asymmetric import rsa\n",
    "from cryptography.hazmat.primitives.asymmetric import padding\n",
    "from cryptography.hazmat.primitives import hashes\n",
    "import math\n"
   ]
  },
  {
   "cell_type": "code",
   "execution_count": 19,
   "metadata": {},
   "outputs": [],
   "source": [
    "def RSA_key_generator():\n",
    "    private_key = rsa.generate_private_key(\n",
    "        public_exponent=65537,\n",
    "        key_size=8192\n",
    "    )\n",
    "    public_key = private_key.public_key()\n",
    "\n",
    "    private_key_pem = private_key.private_bytes(\n",
    "    encoding=serialization.Encoding.PEM,\n",
    "    format=serialization.PrivateFormat.TraditionalOpenSSL,\n",
    "    encryption_algorithm=serialization.NoEncryption()\n",
    "    )\n",
    "\n",
    "    public_key_pem = public_key.public_bytes(\n",
    "    encoding=serialization.Encoding.PEM,\n",
    "    format=serialization.PublicFormat.SubjectPublicKeyInfo\n",
    "  )\n",
    "\n",
    "    return private_key_pem, public_key_pem\n"
   ]
  },
  {
   "cell_type": "code",
   "execution_count": 20,
   "metadata": {},
   "outputs": [],
   "source": [
    "def asymmteric_encryptor(public_key_pem:str, input_message:str):\n",
    "    public_key = serialization.load_pem_public_key(\n",
    "        public_key_pem)\n",
    "\n",
    "    ciphertext = public_key.encrypt(\n",
    "    input_message,\n",
    "    padding.OAEP(\n",
    "        mgf=padding.MGF1(algorithm=hashes.SHA256()),\n",
    "        algorithm=hashes.SHA256(),\n",
    "        label=None\n",
    "    )\n",
    ")\n",
    "\n",
    "    return ciphertext"
   ]
  },
  {
   "cell_type": "code",
   "execution_count": 21,
   "metadata": {},
   "outputs": [],
   "source": [
    "def asymmetric_decryptor(private_key_pem:str, ciphertext:str):\n",
    "    private_key = serialization.load_pem_private_key(\n",
    "        private_key_pem,\n",
    "        password=None\n",
    "    )\n",
    "    decrypted = private_key.decrypt(\n",
    "        ciphertext,\n",
    "        padding.OAEP(\n",
    "            mgf=padding.MGF1(algorithm=hashes.SHA256()),\n",
    "            algorithm=hashes.SHA256(),\n",
    "            label=None\n",
    "        )\n",
    "    ).decode()\n",
    "\n",
    "    return decrypted"
   ]
  },
  {
   "cell_type": "code",
   "execution_count": 22,
   "metadata": {},
   "outputs": [],
   "source": [
    "def symmetric_verifier(plaintext:str, ciphertext:str, private_key:str):\n",
    "    decrypted_message = asymmetric_decryptor(private_key, ciphertext)\n",
    "    return decrypted_message == plaintext\n"
   ]
  },
  {
   "cell_type": "markdown",
   "metadata": {},
   "source": [
    "Now test your functions by encrypting & decrypting the ((confidential-message.txt)) file again using new asummetric functions."
   ]
  },
  {
   "cell_type": "code",
   "execution_count": 23,
   "metadata": {},
   "outputs": [
    {
     "name": "stdout",
     "output_type": "stream",
     "text": [
      "Encrypted Message: b'\\x99\\x84 jfSH\\xda\\x8c5E\\x80_\\xdb\\xe4B\\xfa=\\x9bW\\xda\\x84Qs\\xf5V\\xb5\\xa9\\xa1z\\x9f\\xc1\\x13k<\\\\\\xd1\\xb8\\xd3\\xdc\\x004\\xd9\\x012\\xd2\\xde\\xcf\\x9b\\xc2\\x92Z\\x80\\xa5\\xb0a\\xe1CV\\xfe\\xfa\\xc3q,\\xb4\\x81/\\xd5E\\xe2\\x89?\\xce\\x02\\x04\\xe5\\xaf\\xcd\\xba\\xb1~x\\xc4\\xed\\x1f,\\x84\\x17\\xb1\\xb42\\x00\\x1bN2\\xbd\\xd6\\xd3\\x8f\\xc7L\\xaa\\xd9c}\\xb5\\x92\\x9bK-:\\x19\\xa5k\\xa6y\\x8f\\x1fpzc\\x06m\\x05\\xe1\\x02\\xe1\\x90\\xbaq\\x13\\x17@x\\xdao\\xb3j}OH\\xe3:\\\\q\\x07\\x8e\\xc3\\xfbV\\xb9\\x0e\\xe2N\\x86\\x8eX]\\xa7\\x1a\\x18h\\xd4\\x18\\xe2\\x06.%F\\xafE\\x1f\\xd1\\x0f\\xb03\\x1cv\\xe5\\'\\xd9c\\xec@\\xbe\\xbf12\\xef\\xda3\\x19\\xc6\\xb3\\xd8\\x16(\\x9bW\\x90\\xd8\\xf9I6\\x05\\x8f\\xbe\\xbdee\\xf2\\xc8\\xcb\\xad<\\xb4\\xaa\\xdd 1\\xd0?\\xd5\\xad\\x08\\xab\\xc1i\\xb5&\\xc3:\\xd1\\x19DX\\x96\\x83:\\xbe\\xecZ+:\\x8eM\\xb5\\xf4R\\xe8$\\xac\\x82\\x92ri\\xab\\xc0\\x81D|\\x99\\xd8\\x85 \\xc6O\\x95p\\x80\\x996\\x02)\\x9d\\x06,\\x82\\xfc\\x98\\xaaT2\\xd2A\\x0bA\\r_\\xee\\xb1\\xd7\\xb6\\x1e\\xbay?\\x02_~p\\xc0\\'\\xa2\\xe4\\x01\\t<0xv\\xf8R\\x7f6x\\xd5L\\xdf\\x92\\x18\\x0c\\xf6\\xae\\xd2\\x1e\\xf8\\xdb\\xb5\\x99\\xa4\\x9c\\xda\\xdb1\\xbc\\xd2\\xc7\\xa0\\xc6\\x98\\xa7\\x0c\\xc1\\xffg\\x83[\\x02\\xa5 OUx\\xcf\\x94\\xb7\\x12\\xd3\\xdf\\xb2\\x91@\\xa3\\x85\\'\\x9f\\xda\\xc9NR\\x89Vd\\xef\\x99\\x06\\xb9\\x9eU0\\xba\\x00\\x03Z]/\\xeb\\x00\\x16 v7\\xfc\\t4S\\xec\\xe08]\\xd2\\xf0\\xe3\\xf6Y\\xfdn\\x19\\xb9fT\\x07\\x90\\xd1\\x126M\\xb4\\xdb\\x98\\x17\\x1b\\x8bX\\xf2q,X\\xb1.\\xed--\\xf3[\\xff\\xc6\\xc0H\\xc3\\xfes\\xecF\\xa4\\x8c#r\\xf8|\\x80+\\x8fb&l\\x846W\\x9a\\x12\\xa8\\xe1r\\xbd+\\xceo\\xce\\xdc\\xe5J\\r\\xa7\\x17\\x13\\x8e\\xde\\xa3\\xda\\xf6\\x1b\\xb9\\xcc\\xea\\xd0\\xd8nOl\\x8e\\x1do\\xde\\xd9\\xf9O\\xda\\x8f`\\x89\\xc9\\x9f\\x8c\\xcd\\x06\\x10\\xfe$o\\xad\\tts\\xf5\\xb3P\\xfa\\xc6(y\\x85\\xf5\\xb3\\xb4\\xfe\\xda\\xbdY._(!f\\x99-\\xf2\\xa0\\x0bO\\xd13\\x1egH\\x8d\\xc3m\\x84\\xbd\\xab\\xf9[\\xc8\\xf2\\xfb\\r\\xb5\\xc5=#\\\\\\xdb\\xed\\x0fJ\\'\\x86,\\xfb\\xcd\\x0b\\xaa\\xc0\\xb5-\\xf1\"\\xd3\\xcf[\\xd8G$\\xf3 \\xf6d\\x87\\xf4\\x81\\x19\"2\\x9a\\xbf\\xb0\\xdc\\xc57\\xe7?\\xc7i,\\x00NGx]\\t\\x9fZ\\x1c\\x1e\\x85\\xcf\\xc3Dl9\\xdd\\xfa\\xac\\xcdr\\xdf-\\xb7\\x9e5\\xde+\\xa5#T\\xed\\xf2\\xe3(\\xf4\\x98\\xb7g\\x83%\\x07\\n\\xe4\\xea\\xd7\\xf6,@\\xe7Fn\\xcb6\\t\\xc3\\xd3\\x9a;\\xbd\\xd8\\xaby\\x88\\xf7\\x84Q\\xbd\\x18>\\x0eHz7\\xfa+\\xb8\\xac\\x9f\\x95\\n&p\\xcb\\x9b\\x0b\\x02\\xdbL{\\x13\\x1f\\xa3Ss\\xba\\xd7\\xcf\\xe0X\\x85\\xecH3J*\\xb5\\x154\"\\xa5\\xa7\\x0c\\xc1BB6\\x88j\\xce/\\xf4\\xd0?\\xdc\\x92\\xe6\\xe0\\xb3\\xd3}\\x8dU6\\x08HC\\x93\\x95H,5|`\\xdd\\xf9H\\xb0\\x00 Ff\\x10\\xbf\\xe8\\x085\\xfc=m\\xf8\\x0f\\x94\\xde\\xb0\\xef[:>\\xc2\\xe5#\\xa5\\x110z\\x1b\\xb1\\xb2\\xad]\\x07g\\xd1\\x94\\x1b\\xbdr\\xcc\\xf0\\xf3>zB)6\\x9d\\xe4\\x96qA\\x08\\x0b\\x97\\xc1P\\x9d\\xc8@\\x08\\xe4\\x8fx|\\x075\\x07\\x9bt\\xfe\\xe5\\xa9\\xf9\\xdf\\x17=\\xedE\\xd9\\xa1\\xbcO\\xed\\xde\\xc9n\\xe0\\xefk\\xb548`\\xd4\\x08\\x8b<A)A4W\\xeaj\\x90\\x16\\xe1\\x82\\xba\\xf7\\xec\\xf3`\\xeea9\\x81\\xddX\\x04K\\x03+\\xa7F!\\x91CR\\xfb\\xe7\\xa7W\\xf6\\xa3d\\xf5\\xb0A>\\xf1\\x156\\x9aH^\\x87\\x94+\\xbe\\xda\\xf4\\x0b)\\x90\\x99<\\xbf\\xb1\\x04\\xa6\\xe7\\xaf\\xb4\\xdd\\xbbz\\x88\\xb3\\xec\\xf06\\x96\\xd5\\x97\\xd0.K\\xa3\\xa2\\xf4\\xfd\\xca%\\x8e\\x12\\xf0.^\\xa8j\\xdd\\xd8G\\xcf\\xe64\\x9b\\xccM[\\xfd\\xad\\xfc\\x91\\xc0\\xb4E\\xc8\\x1c\\xd3\\xe5\\x17\\xfa+\\xae\\xc5\\xeb\\xad\\xfa\\xdbL\\x94\\xf8\\xea\\xd6\\x03\\xafv2u{\\xae\\xec}\\r\\x85\\x8cZ\\xf54\\x17{G\\xd5j\\xac\\xbajxU^!\\r\\x07B\\xcf\\x0b\\xf8\\x96\\x99qZ\\xfa\\xe9q\\x1b;'\n"
     ]
    }
   ],
   "source": [
    "file_path = 'Confidential-Message.txt'\n",
    "\n",
    "# Read data from the file\n",
    "with open(file_path, 'rb') as file:\n",
    "    message = file.read()\n",
    "\n",
    "input_message = message\n",
    "private_key, public_key = RSA_key_generator()\n",
    "encrypted_message2 = asymmteric_encryptor(public_key, input_message)\n",
    "print(\"Encrypted Message:\", encrypted_message2)"
   ]
  },
  {
   "cell_type": "code",
   "execution_count": 35,
   "metadata": {},
   "outputs": [
    {
     "name": "stdout",
     "output_type": "stream",
     "text": [
      "From: Tintin\n",
      "To: Captain Haddock\n",
      "Date: August 13, 2023\n",
      "\n",
      "Subject: Top Secret Mission\n",
      "\n",
      "Dear Captain Haddock,\n",
      "\n",
      "I hope this message finds you well. I wanted to inform you about a top-secret mission we've been assigned by the authorities. Our task is to locate the hidden treasure of Red Rackham, which is believed to be buried on a remote island.\n",
      "\n",
      "For security reasons, I've attached a file containing the coordinates of the island's location and a map of the area. Please keep this information strictly confidential and do not share it with anyone else. We must ensure that our enemies do not get hold of this crucial data.\n",
      "\n",
      "To ensure the utmost secrecy, we will communicate using a secure channel and encryption techniques. Please let me know when you're ready to discuss our plan of action.\n",
      "\n",
      "Stay vigilant, my friend. Our adventure awaits.\n",
      "\n",
      "Yours in secrecy,\n",
      "\n",
      "Tintin\n"
     ]
    }
   ],
   "source": [
    "# Test decryption code:\n",
    "print(input_message.decode())"
   ]
  },
  {
   "cell_type": "code",
   "execution_count": 36,
   "metadata": {},
   "outputs": [
    {
     "data": {
      "text/plain": [
       "True"
      ]
     },
     "execution_count": 36,
     "metadata": {},
     "output_type": "execute_result"
    }
   ],
   "source": [
    "symmetric_verifier(input_message.decode(), encrypted_message2, private_key)"
   ]
  },
  {
   "cell_type": "markdown",
   "metadata": {},
   "source": [
    "## Part 3: Digital signature"
   ]
  },
  {
   "cell_type": "markdown",
   "metadata": {},
   "source": [
    "Write a function to sign a given message in the text file (Confidentail message) using private key which was made in the part 2.   \n",
    "You have to sign the hash of the message, not the whole message (why?). (Use SHA-256 for hashing)"
   ]
  },
  {
   "cell_type": "code",
   "execution_count": 37,
   "metadata": {},
   "outputs": [],
   "source": [
    "from cryptography.hazmat.backends import default_backend\n",
    "from cryptography.hazmat.primitives import hashes\n",
    "from cryptography.hazmat.primitives.asymmetric import padding"
   ]
  },
  {
   "cell_type": "code",
   "execution_count": 38,
   "metadata": {},
   "outputs": [],
   "source": [
    "def sign_message(private_key_pem:str, input_message: str):\n",
    "    private_key = serialization.load_pem_private_key(\n",
    "          private_key_pem,\n",
    "          password=None\n",
    "      )\n",
    "    chosen_hash = hashes.SHA256()\n",
    "    hasher = hashes.Hash(chosen_hash)\n",
    "    hasher.update(input_message)\n",
    "    message = hasher.finalize()\n",
    "    signature = private_key.sign(\n",
    "    message,\n",
    "    padding.PSS(\n",
    "        mgf=padding.MGF1(hashes.SHA256()),\n",
    "        salt_length=padding.PSS.MAX_LENGTH\n",
    "    ),\n",
    "    hashes.SHA256()\n",
    ")\n",
    "    return signature"
   ]
  },
  {
   "cell_type": "code",
   "execution_count": 39,
   "metadata": {},
   "outputs": [],
   "source": [
    "def message_verification(input_message:str, signature:str, public_key_pem:str):\n",
    "  public_key = serialization.load_pem_public_key(\n",
    "        public_key_pem)\n",
    "  chosen_hash = hashes.SHA256()\n",
    "  hasher = hashes.Hash(chosen_hash)\n",
    "  hasher.update(input_message)\n",
    "  message = hasher.finalize()\n",
    "  try:\n",
    "    public_key.verify(\n",
    "      signature,\n",
    "      message,\n",
    "      padding.PSS(\n",
    "          mgf=padding.MGF1(hashes.SHA256()),\n",
    "          salt_length=padding.PSS.MAX_LENGTH\n",
    "      ),\n",
    "      hashes.SHA256()\n",
    "    )\n",
    "    return True\n",
    "  except (ValueError, TypeError):\n",
    "    return False\n"
   ]
  },
  {
   "cell_type": "code",
   "execution_count": 40,
   "metadata": {},
   "outputs": [
    {
     "name": "stdout",
     "output_type": "stream",
     "text": [
      "True\n"
     ]
    }
   ],
   "source": [
    "sign_msg = sign_message(private_key, input_message)\n",
    "print(message_verification(input_message, sign_msg, public_key))"
   ]
  },
  {
   "cell_type": "markdown",
   "metadata": {},
   "source": [
    "پیام MAC (Message Authentication Code) و HMAC (Hash-based Message Authentication Code) دو روش برای اعتبارسنجی اطلاعات در اینترنت هستند. آنها برای اطمینان از اینکه پیام‌ها اصیل و تغییرناپذیر باقی مانده‌اند، بکار می‌روند. \n",
    "\n",
    "1. **پیام MAC (Message Authentication Code)**:\n",
    "   - یک کد تصادفی است که با استفاده از کلیدی مشترک بین فرستنده و گیرنده برای امضای پیام ایجاد می‌شود.\n",
    "   - استفاده از پیام MAC امکان می‌دهد تا فرستنده و گیرنده از اصالت و کامل بودن پیام اطمینان حاصل کنند.\n",
    "   - برای ایجاد MAC از الگوریتم‌های توابع هش (مانند SHA-256 یا SHA-3) و یک کلید مشترک استفاده می‌شود.\n",
    "\n",
    "2. **HMAC (Hash-based Message Authentication Code)**:\n",
    "   - یک نوع خاص از پیام MAC است که بر اساس توابع هش استوار است.\n",
    "   - HMAC از یک تابع هش و یک کلید مخصوص برای امضای پیام استفاده می‌کند.\n",
    "   - از آنجا که HMAC بر اساس توابع هش استوار است، بسیار ایمن‌تر از روش‌های معمول پیام MAC است.\n",
    "   - از آن برای امن‌سازی ارتباطات از جمله پروتکل‌های امنیتی مانند TLS/SSL و IPSec استفاده می‌شود.\n",
    "\n",
    "کاربردهای این دو روش عبارتند از:\n",
    "- اعتبارسنجی پیام‌های ارسالی در ارتباطات شبکه‌ای.\n",
    "- امن‌سازی اطلاعات در پروتکل‌های امنیتی مانند TLS/SSL، SSH، و IPSec.\n",
    "- امضای دیجیتال و اعتبارسنجی اسناد و فایل‌ها.\n",
    "- احراز هویت کاربران و دستگاه‌ها در سیستم‌های امنیتی."
   ]
  }
 ],
 "metadata": {
  "kernelspec": {
   "display_name": "Python 3",
   "language": "python",
   "name": "python3"
  },
  "language_info": {
   "codemirror_mode": {
    "name": "ipython",
    "version": 3
   },
   "file_extension": ".py",
   "mimetype": "text/x-python",
   "name": "python",
   "nbconvert_exporter": "python",
   "pygments_lexer": "ipython3",
   "version": "3.9.6"
  },
  "orig_nbformat": 4
 },
 "nbformat": 4,
 "nbformat_minor": 2
}
