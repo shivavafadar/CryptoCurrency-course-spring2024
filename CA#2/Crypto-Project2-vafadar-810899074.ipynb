{
 "cells": [
  {
   "cell_type": "markdown",
   "metadata": {},
   "source": [
    "# <center>CryptoCurrencies CA#2<center>\n",
    "<h1><center>Transacting on Bitcoin TestNet / Firing up an Ethereum Node<center></h1>\n",
    "\n",
    "#### <center>\"Shiva - Vafadar\"<center>\n",
    "#### <center>\"810899074\"<center>"
   ]
  },
  {
   "cell_type": "markdown",
   "metadata": {},
   "source": [
    "### 1. Address Generation:"
   ]
  },
  {
   "cell_type": "code",
   "execution_count": 18,
   "metadata": {},
   "outputs": [
    {
     "name": "stdout",
     "output_type": "stream",
     "text": [
      "Defaulting to user installation because normal site-packages is not writeable\n",
      "Requirement already satisfied: base58 in /Users/shivavafadar/Library/Python/3.9/lib/python/site-packages (2.1.1)\n",
      "Requirement already satisfied: ecdsa in /Users/shivavafadar/Library/Python/3.9/lib/python/site-packages (0.19.0)\n",
      "Requirement already satisfied: ripemd-hash in /Users/shivavafadar/Library/Python/3.9/lib/python/site-packages (1.0.1)\n",
      "Requirement already satisfied: python-bitcoinlib in /Users/shivavafadar/Library/Python/3.9/lib/python/site-packages (0.12.2)\n",
      "Requirement already satisfied: six>=1.9.0 in /Library/Developer/CommandLineTools/Library/Frameworks/Python3.framework/Versions/3.9/lib/python3.9/site-packages (from ecdsa) (1.15.0)\n",
      "\u001b[33mWARNING: You are using pip version 21.2.4; however, version 24.0 is available.\n",
      "You should consider upgrading via the '/Library/Developer/CommandLineTools/usr/bin/python3 -m pip install --upgrade pip' command.\u001b[0m\n"
     ]
    }
   ],
   "source": [
    "!pip install base58 ecdsa ripemd-hash python-bitcoinlib"
   ]
  },
  {
   "cell_type": "code",
   "execution_count": 19,
   "metadata": {},
   "outputs": [],
   "source": [
    "import os\n",
    "import base58\n",
    "import ecdsa\n",
    "from hashlib import sha256\n",
    "import binascii\n",
    "from ripemd.ripemd160 import ripemd160"
   ]
  },
  {
   "cell_type": "code",
   "execution_count": 20,
   "metadata": {},
   "outputs": [],
   "source": [
    "def getWif(privkey):\n",
    "    wif = b\"\\xef\" + privkey # 0xef for testnet and 0x80 for mainnet\n",
    "    checksum = sha256(sha256(wif).digest()).digest()[:4]\n",
    "    wif += checksum\n",
    "    return base58.b58encode(wif)"
   ]
  },
  {
   "cell_type": "markdown",
   "metadata": {},
   "source": [
    " 1.1: Base58 and WIF address"
   ]
  },
  {
   "cell_type": "code",
   "execution_count": 21,
   "metadata": {},
   "outputs": [
    {
     "name": "stdout",
     "output_type": "stream",
     "text": [
      "bitcoin address: mvtuDAyfoAYnToNA8S4QHEsascwadvsi7h\n",
      "Private Key (WIF): 93RRKiozrtWX2PR9jrVwU2eos5qSFt5H8XsYuT4kE1WoQAajX12\n"
     ]
    }
   ],
   "source": [
    "def btc_add_generate():\n",
    "  ecdsaPrivateKey = ecdsa.SigningKey.generate(curve=ecdsa.SECP256k1)\n",
    "  # print(\"ECDSA Private Key: \", ecdsaPrivateKey.to_string().hex())\n",
    "\n",
    "  ecdsaPublicKey = '04' +  ecdsaPrivateKey.get_verifying_key().to_string().hex()\n",
    "  # print(\"ECDSA Public Key: \", ecdsaPublicKey)\n",
    "\n",
    "  hash256FromECDSAPublicKey = sha256(binascii.unhexlify(ecdsaPublicKey)).hexdigest()\n",
    "  # print(\"SHA256(ECDSA Public Key): \", hash256FromECDSAPublicKey)\n",
    "\n",
    "  ridemp160FromHash256 = ripemd160(binascii.unhexlify(hash256FromECDSAPublicKey))\n",
    "  # print(\"RIDEMP160(SHA256(ECDSA Public Key)): \", ridemp160FromHash256.hex())\n",
    "\n",
    "  prependNetworkByte = '6f' + ridemp160FromHash256.hex() # 0x6f for testnet and 0x00 for mainnet\n",
    "  # print(\"Prepend Network Byte to RIDEMP160(SHA256(ECDSA Public Key)): \", prependNetworkByte)\n",
    "\n",
    "  hash = prependNetworkByte\n",
    "  for x in range(1,3):\n",
    "      hash = sha256(binascii.unhexlify(hash)).hexdigest()\n",
    "      # print(\"\\t|___>SHA256 #\", x, \" : \", hash)\n",
    "\n",
    "  cheksum = hash[:8]\n",
    "  # print(\"Checksum(first 4 bytes): \", cheksum)\n",
    "\n",
    "  appendChecksum = prependNetworkByte + cheksum\n",
    "  # print(\"Append Checksum to RIDEMP160(SHA256(ECDSA Public Key)): \", appendChecksum)\n",
    "\n",
    "  bitcoinAddress = base58.b58encode(binascii.unhexlify(appendChecksum))\n",
    "  # print(\"Bitcoin Address: \", bitcoinAddress.decode('utf8'))\n",
    "\n",
    "  return bitcoinAddress, getWif(ecdsaPrivateKey.to_string())\n",
    "\n",
    "address, wif = btc_add_generate()\n",
    "print(f\"bitcoin address: {address.decode()}\")\n",
    "print(f\"Private Key (WIF): {wif.decode()}\")"
   ]
  },
  {
   "cell_type": "markdown",
   "metadata": {},
   "source": [
    "1.2: Vanity Address Generator\n"
   ]
  },
  {
   "cell_type": "code",
   "execution_count": 35,
   "metadata": {},
   "outputs": [
    {
     "name": "stdout",
     "output_type": "stream",
     "text": [
      "Vanity Address: mpikrWG4SBxKZemJfDYoNTq3Rd1MaLhHZ3\n",
      "Private Key (WIF): 92ifF7LzXLNe7o3JxBcbCB4KovoMGLoh4biLjwwDngrtVamDLU3\n"
     ]
    }
   ],
   "source": [
    "def find_vanity_address(prefix):\n",
    "  while True:\n",
    "    ecdsaPrivateKey = ecdsa.SigningKey.generate(curve=ecdsa.SECP256k1)\n",
    "    ecdsaPublicKey = b'\\x04' +  ecdsaPrivateKey.get_verifying_key().to_string()\n",
    "    hash256FromECDSAPublicKey = sha256((ecdsaPublicKey)).digest()\n",
    "    ridemp160FromHash256 = ripemd160(hash256FromECDSAPublicKey)\n",
    "    prependNetworkByte = b'\\x6f' + ridemp160FromHash256 # 0x6f for testnet and 0x00 for mainnet\n",
    "    hash = prependNetworkByte\n",
    "    for x in range(1,3):\n",
    "        hash = sha256(hash).digest()\n",
    "    cheksum = hash[:4]\n",
    "    appendChecksum = prependNetworkByte + cheksum\n",
    "    bitcoinAddress = base58.b58encode(appendChecksum)\n",
    "    if bitcoinAddress.decode()[1:].startswith(prefix):\n",
    "      return bitcoinAddress, getWif(ecdsaPrivateKey.to_string())\n",
    "\n",
    "desired_prefix = \"pik\"\n",
    "vanity_address, vanity_wif = find_vanity_address(desired_prefix)\n",
    "print(f\"Vanity Address: {vanity_address.decode()}\")\n",
    "print(f\"Private Key (WIF): {vanity_wif.decode()}\")"
   ]
  },
  {
   "cell_type": "markdown",
   "metadata": {},
   "source": [
    "### 2. Transacting on Bitcoin TestNet:"
   ]
  },
  {
   "cell_type": "markdown",
   "metadata": {},
   "source": [
    "Here are some utility functions that you will need to use in order to make transactions. Fill the #TODO parts in the functions in order to be used in the next steps:"
   ]
  },
  {
   "cell_type": "markdown",
   "metadata": {},
   "source": [
    "#### Utility Functions:"
   ]
  },
  {
   "cell_type": "code",
   "execution_count": 39,
   "metadata": {},
   "outputs": [],
   "source": [
    "import bitcoin.wallet\n",
    "from bitcoin.core import COIN, b2lx, serialize, x, lx, b2x\n",
    "from bitcoin.core.scripteval import OP_DUP, OP_HASH160, OP_EQUALVERIFY, OP_CHECKSIG\n",
    "# from utils import *\n",
    "\n",
    "bitcoin.SelectParams(\"testnet\")  # Select the network (testnet or mainnet)\n",
    "# Private key in WIF format XXXXXXXXXXXXXXXXXXXXXXXXXXXXXXXXXXXXXXXXXXXXXXXXXXX\n",
    "my_private_key = bitcoin.wallet.CBitcoinSecret(\"92b2YxT5wqFtT8oZJqd91P6n4rWonFg7XBPPRgegt6szp4dgMY9\")\n",
    "my_public_key = my_private_key.pub\n",
    "my_address = bitcoin.wallet.P2PKHBitcoinAddress.from_pubkey(my_public_key)\n",
    "destination_address = bitcoin.wallet.CBitcoinAddress(\"mpikWc4XVfcaYqVUZ4bk9zkzHWv8M2PxQG\")  # Destination address (recipient of the money)\n",
    "\n",
    "\n",
    "def P2PKH_scriptPubKey(address):\n",
    "    decoded = base58.b58decode(address)\n",
    "    publicKeyHash = decoded[1:-4]\n",
    "    return [OP_DUP, OP_HASH160, publicKeyHash, OP_EQUALVERIFY, OP_CHECKSIG]\n",
    "\n",
    "\n",
    "def P2PKH_scriptSig(txin, txout, txin_scriptPubKey):\n",
    "    signature = create_OP_CHECKSIG_signature(txin, txout, txin_scriptPubKey, my_private_key)\n",
    "\n",
    "    return [signature, my_public_key]  # Fill this section\n",
    "\n",
    "\n",
    "def send_from_P2PKH_transaction(amount_to_send, txid_to_spend, utxo_index, txout_scriptPubKey):\n",
    "    txout = create_txout(amount_to_send, txout_scriptPubKey)\n",
    "\n",
    "    txin_scriptPubKey = P2PKH_scriptPubKey(my_address)\n",
    "    txin = create_txin(txid_to_spend, utxo_index)\n",
    "    txin_scriptSig = P2PKH_scriptSig(txin, txout, txin_scriptPubKey)\n",
    "\n",
    "    new_tx = create_signed_transaction(txin, txout, txin_scriptPubKey, txin_scriptSig)\n",
    "\n",
    "    return broadcast_transaction(new_tx)\n",
    "\n",
    "\n",
    "def run():\n",
    "    ######################################################################\n",
    "    amount_to_send = 0.1\n",
    "    txid_to_spend = ('ad310edb4ff2cb6a4cd2c7de13c5ab321ac0f90022170a109c84836f6ce54abc')  # TxHash of UTXO\n",
    "    utxo_index = 0  # UTXO index among transaction outputs\n",
    "    ######################################################################\n",
    "\n",
    "    print(my_address)  # Prints your address in base58\n",
    "    print(my_public_key.hex())  # Print your public key in hex\n",
    "    print(my_private_key.hex())  # Print your private key in hex\n",
    "    txout_scriptPubKey = P2PKH_scriptPubKey(my_address)\n",
    "    response = send_from_P2PKH_transaction(amount_to_send, txid_to_spend, utxo_index, txout_scriptPubKey)\n",
    "    print(response.status_code, response.reason)\n",
    "    print(response.text)  # Report the hash of transaction which is printed in this section result\n"
   ]
  },
  {
   "cell_type": "markdown",
   "metadata": {},
   "source": [
    "#### transaction"
   ]
  },
  {
   "cell_type": "code",
   "execution_count": 40,
   "metadata": {},
   "outputs": [],
   "source": [
    "import requests\n",
    "\n",
    "from bitcoin.core import b2x, lx, COIN, COutPoint, CMutableTxOut, CMutableTxIn, CMutableTransaction, Hash160\n",
    "from bitcoin.core.script import *\n",
    "from bitcoin.core.scripteval import VerifyScript, SCRIPT_VERIFY_P2SH\n",
    "\n",
    "\n",
    "def send_from_custom_transaction(amount_to_send, txid_to_spend, utxo_index, txin_scriptPubKey, txin_scriptSig, txout_scriptPubKey):\n",
    "    txout = create_txout(amount_to_send, txout_scriptPubKey)\n",
    "    txin = create_txin(txid_to_spend, utxo_index)\n",
    "    new_tx = create_signed_transaction(txin, txout, txin_scriptPubKey, txin_scriptSig)\n",
    "    return broadcast_transaction(new_tx)\n",
    "\n",
    "\n",
    "def create_txin(txid, utxo_index):\n",
    "    return CMutableTxIn(COutPoint(lx(txid), utxo_index))\n",
    "\n",
    "\n",
    "def create_txout(amount, scriptPubKey):\n",
    "    return CMutableTxOut(amount*COIN, CScript(scriptPubKey))\n",
    "\n",
    "\n",
    "def create_OP_CHECKSIG_signature(txin, txout, txin_scriptPubKey, seckey):\n",
    "    tx = CMutableTransaction([txin], [txout])\n",
    "    sighash = SignatureHash(CScript(txin_scriptPubKey), tx, 0, SIGHASH_ALL)\n",
    "    sig = seckey.sign(sighash) + bytes([SIGHASH_ALL])\n",
    "    return sig\n",
    "\n",
    "\n",
    "def create_signed_transaction(txin, txout, txin_scriptPubKey, txin_scriptSig):\n",
    "    tx = CMutableTransaction([txin], [txout])\n",
    "    txin.scriptSig = CScript(txin_scriptSig)\n",
    "    VerifyScript(txin.scriptSig, CScript(txin_scriptPubKey), tx, 0, (SCRIPT_VERIFY_P2SH,))\n",
    "    return tx\n",
    "\n",
    "\n",
    "def broadcast_transaction(tx):\n",
    "    raw_transaction = b2x(tx.serialize())\n",
    "    headers = {'content-type': 'application/x-www-form-urlencoded'}\n",
    "    return requests.post(\n",
    "        'https://mempool.space/testnet4/api/tx',\n",
    "        headers=headers,\n",
    "        data='{\"tx\": \"%s\"}' % raw_transaction,\n",
    "    )\n"
   ]
  },
  {
   "cell_type": "markdown",
   "metadata": {},
   "source": [
    "Now use the provided functions to make these transactions:"
   ]
  },
  {
   "cell_type": "markdown",
   "metadata": {},
   "source": [
    "2.1: One input and two outputs transaction"
   ]
  },
  {
   "cell_type": "code",
   "execution_count": 43,
   "metadata": {},
   "outputs": [
    {
     "name": "stdout",
     "output_type": "stream",
     "text": [
      "64f492d43bbfd9c1d5a070be6bb0fe8d431ca4b0\n",
      "76a91464f492d43bbfd9c1d5a070be6bb0fe8d431ca4b088ac\n",
      "400 Bad Request\n",
      "sendrawtransaction RPC error: {\"code\":-22,\"message\":\"TX decode failed. Make sure the tx has at least one input.\"}\n"
     ]
    },
    {
     "ename": "ValueError",
     "evalue": "COutPoint: hash must be exactly 32 bytes; got 25 bytes",
     "output_type": "error",
     "traceback": [
      "\u001b[0;31m---------------------------------------------------------------------------\u001b[0m",
      "\u001b[0;31mValueError\u001b[0m                                Traceback (most recent call last)",
      "Cell \u001b[0;32mIn[43], line 60\u001b[0m\n\u001b[1;32m     57\u001b[0m     \u001b[38;5;28;01mreturn\u001b[39;00m response\u001b[38;5;241m.\u001b[39mtext\n\u001b[1;32m     59\u001b[0m txid_to_spend \u001b[38;5;241m=\u001b[39m create_first_transaction()\n\u001b[0;32m---> 60\u001b[0m txid_to_spend2 \u001b[38;5;241m=\u001b[39m \u001b[43mcreate_second_transaction\u001b[49m\u001b[43m(\u001b[49m\u001b[38;5;124;43m\"\u001b[39;49m\u001b[38;5;124;43m76a91464f492d43bbfd9c1d5a070be6bb0fe8d431ca4b088ac\u001b[39;49m\u001b[38;5;124;43m\"\u001b[39;49m\u001b[43m)\u001b[49m\n",
      "Cell \u001b[0;32mIn[43], line 40\u001b[0m, in \u001b[0;36mcreate_second_transaction\u001b[0;34m(txid_to_spend)\u001b[0m\n\u001b[1;32m     37\u001b[0m amount_to_send \u001b[38;5;241m=\u001b[39m \u001b[38;5;241m0.00007\u001b[39m  \u001b[38;5;66;03m# Amount in BTC (after subtracting fee)\u001b[39;00m\n\u001b[1;32m     38\u001b[0m fee \u001b[38;5;241m=\u001b[39m \u001b[38;5;241m0.00001\u001b[39m  \u001b[38;5;66;03m# Fee in BTC\u001b[39;00m\n\u001b[0;32m---> 40\u001b[0m txin \u001b[38;5;241m=\u001b[39m \u001b[43mcreate_txin\u001b[49m\u001b[43m(\u001b[49m\u001b[43mtxid_to_spend\u001b[49m\u001b[43m,\u001b[49m\u001b[43m \u001b[49m\u001b[43mutxo_index\u001b[49m\u001b[43m)\u001b[49m\n\u001b[1;32m     41\u001b[0m txout_scriptPubKey \u001b[38;5;241m=\u001b[39m P2PKH_scriptPubKey(\u001b[38;5;28mstr\u001b[39m(my_address))\n\u001b[1;32m     43\u001b[0m txout \u001b[38;5;241m=\u001b[39m create_txout(amount_to_send \u001b[38;5;241m-\u001b[39m fee, txout_scriptPubKey)\n",
      "Cell \u001b[0;32mIn[40], line 16\u001b[0m, in \u001b[0;36mcreate_txin\u001b[0;34m(txid, utxo_index)\u001b[0m\n\u001b[1;32m     15\u001b[0m \u001b[38;5;28;01mdef\u001b[39;00m \u001b[38;5;21mcreate_txin\u001b[39m(txid, utxo_index):\n\u001b[0;32m---> 16\u001b[0m     \u001b[38;5;28;01mreturn\u001b[39;00m CMutableTxIn(\u001b[43mCOutPoint\u001b[49m\u001b[43m(\u001b[49m\u001b[43mlx\u001b[49m\u001b[43m(\u001b[49m\u001b[43mtxid\u001b[49m\u001b[43m)\u001b[49m\u001b[43m,\u001b[49m\u001b[43m \u001b[49m\u001b[43mutxo_index\u001b[49m\u001b[43m)\u001b[49m)\n",
      "File \u001b[0;32m~/Library/Python/3.9/lib/python/site-packages/bitcoin/core/__init__.py:93\u001b[0m, in \u001b[0;36mCOutPoint.__init__\u001b[0;34m(self, hash, n)\u001b[0m\n\u001b[1;32m     91\u001b[0m \u001b[38;5;28;01mdef\u001b[39;00m \u001b[38;5;21m__init__\u001b[39m(\u001b[38;5;28mself\u001b[39m, \u001b[38;5;28mhash\u001b[39m\u001b[38;5;241m=\u001b[39m\u001b[38;5;124mb\u001b[39m\u001b[38;5;124m'\u001b[39m\u001b[38;5;130;01m\\x00\u001b[39;00m\u001b[38;5;124m'\u001b[39m\u001b[38;5;241m*\u001b[39m\u001b[38;5;241m32\u001b[39m, n\u001b[38;5;241m=\u001b[39m\u001b[38;5;241m0xffffffff\u001b[39m):\n\u001b[1;32m     92\u001b[0m     \u001b[38;5;28;01mif\u001b[39;00m \u001b[38;5;129;01mnot\u001b[39;00m \u001b[38;5;28mlen\u001b[39m(\u001b[38;5;28mhash\u001b[39m) \u001b[38;5;241m==\u001b[39m \u001b[38;5;241m32\u001b[39m:\n\u001b[0;32m---> 93\u001b[0m         \u001b[38;5;28;01mraise\u001b[39;00m \u001b[38;5;167;01mValueError\u001b[39;00m(\u001b[38;5;124m'\u001b[39m\u001b[38;5;124mCOutPoint: hash must be exactly 32 bytes; got \u001b[39m\u001b[38;5;132;01m%d\u001b[39;00m\u001b[38;5;124m bytes\u001b[39m\u001b[38;5;124m'\u001b[39m \u001b[38;5;241m%\u001b[39m \u001b[38;5;28mlen\u001b[39m(\u001b[38;5;28mhash\u001b[39m))\n\u001b[1;32m     94\u001b[0m     \u001b[38;5;28mobject\u001b[39m\u001b[38;5;241m.\u001b[39m\u001b[38;5;21m__setattr__\u001b[39m(\u001b[38;5;28mself\u001b[39m, \u001b[38;5;124m'\u001b[39m\u001b[38;5;124mhash\u001b[39m\u001b[38;5;124m'\u001b[39m, \u001b[38;5;28mhash\u001b[39m)\n\u001b[1;32m     95\u001b[0m     \u001b[38;5;28;01mif\u001b[39;00m \u001b[38;5;129;01mnot\u001b[39;00m (\u001b[38;5;241m0\u001b[39m \u001b[38;5;241m<\u001b[39m\u001b[38;5;241m=\u001b[39m n \u001b[38;5;241m<\u001b[39m\u001b[38;5;241m=\u001b[39m \u001b[38;5;241m0xffffffff\u001b[39m):\n",
      "\u001b[0;31mValueError\u001b[0m: COutPoint: hash must be exactly 32 bytes; got 25 bytes"
     ]
    }
   ],
   "source": [
    "def create_first_transaction():\n",
    "    txid_to_spend = 'xxxxxxxxxxxxxxxxxxxxxxxxxxxxxxxxxxxxxxxxxxxxxxxxxxxx'  # Replace with actual txid\n",
    "    utxo_index = 1\n",
    "    amount_to_send = 0.00560572  # Amount in BTC\n",
    "    fee = 0.0001  # Fee in BTC\n",
    "\n",
    "    private_key = bitcoin.wallet.CBitcoinSecret(\"xxxxxxxxxxxxxxxxxxxxxxxxxxxxxxxxxxxxxxxxxxxxxxxxx\") # Replace with actual private key\n",
    "    public_key = private_key.pub\n",
    "    address = bitcoin.wallet.P2PKHBitcoinAddress.from_pubkey(public_key)\n",
    "\n",
    "    hashed_true = Hash160(b'\\x51') # OP_TRUE\n",
    "\n",
    "    # Create outputs\n",
    "    unspendable_scriptPubKey = [OP_RETURN, b'un_spendable']\n",
    "    spendable_scriptPubKey = [OP_HASH160, hashed_true, OP_EQUAL]\n",
    "\n",
    "    txin = create_txin(txid_to_spend, utxo_index)\n",
    "    txout1 = create_txout(0.0, unspendable_scriptPubKey)  # 0 BTC output to OP_RETURN\n",
    "    txout2 = create_txout(amount_to_send - fee, spendable_scriptPubKey)\n",
    "\n",
    "    txin_scriptPubKey = P2PKH_scriptPubKey(str(address))\n",
    "\n",
    "    tx = CMutableTransaction([txin], [txout1, txout2])\n",
    "    sighash = SignatureHash(CScript(txin_scriptPubKey), tx, 0, SIGHASH_ALL)\n",
    "    sig = private_key.sign(sighash) + bytes([SIGHASH_ALL])\n",
    "\n",
    "    txin_scriptSig = [sig, public_key]\n",
    "    txin.scriptSig = CScript(txin_scriptSig)\n",
    "    VerifyScript(txin.scriptSig, CScript(txin_scriptPubKey), tx, 0, (SCRIPT_VERIFY_P2SH,))\n",
    "\n",
    "    # response = broadcast_transaction(tx)\n",
    "    # print(response.status_code, response.reason)\n",
    "    # print(response.text)\n",
    "    return b2x(tx.serialize())\n",
    "\n",
    "\n",
    "def create_second_transaction(txid_to_spend):\n",
    "    # Replace with the txid of the first transaction and the correct output index\n",
    "    utxo_index = 1  # The index of the spendable output in the first transaction\n",
    "    amount_to_send = 0.00550572  # Amount in BTC (after subtracting fee)\n",
    "    fee = 0.00001  # Fee in BTC\n",
    "\n",
    "    private_key = bitcoin.wallet.CBitcoinSecret(\"xxxxxxxxxxxxxxxxxxxxxxxxxxxxxxxxxxxxxxxxxxxxxxxxx\")  # Replace with actual private key\n",
    "    public_key = private_key.pub\n",
    "    address = bitcoin.wallet.P2PKHBitcoinAddress.from_pubkey(public_key)\n",
    "\n",
    "    txin = create_txin(txid_to_spend, utxo_index)\n",
    "    txout_scriptPubKey = P2PKH_scriptPubKey(str(address))\n",
    "\n",
    "    txout = create_txout(amount_to_send - fee, txout_scriptPubKey)\n",
    "    tx = CMutableTransaction([txin], [txout])\n",
    "\n",
    "    # Previous scriptPubKey\n",
    "    txin_scriptPubKey = [0x51]\n",
    "    # No signature needed as it is spendable by anyone\n",
    "    txin_scriptSig = [0x51]\n",
    "\n",
    "    txin.scriptSig = CScript(txin_scriptSig)\n",
    "    VerifyScript(txin.scriptSig, CScript(txin_scriptPubKey), tx, 0, (SCRIPT_VERIFY_P2SH,))\n",
    "\n",
    "    # response = broadcast_transaction(tx)\n",
    "    # print(response.status_code, response.reason)\n",
    "    # print(response.text)\n",
    "    return b2x(tx.serialize())\n"
   ]
  },
  {
   "cell_type": "markdown",
   "metadata": {},
   "source": [
    "2.2: Pay to MultiSig transaction (P2MS)\n"
   ]
  },
  {
   "cell_type": "code",
   "execution_count": 1,
   "metadata": {},
   "outputs": [],
   "source": [
    "# Create the conditional scriptPubKey\n",
    "def create_P2MS(pubkey1, pubkey2, pubkey3):\n",
    "    return [OP_2, pubkey1, pubkey2, pubkey3, OP_3, OP_CHECKMULTISIG]\n",
    "\n",
    "def create_P2MS_transaction(txid_to_spend, utxo_index, amount_to_send, fee, dst_pubkey1, dst_pubkey2, dst_pubkey3, my_secKey, txin_scriptPubKey):\n",
    "    txin = CMutableTxIn(COutPoint(lx(txid_to_spend), utxo_index))\n",
    "    txout_scriptPubKey = create_P2MS(dst_pubkey1, dst_pubkey2, dst_pubkey3)\n",
    "    txout = CMutableTxOut((amount_to_send - fee) * COIN, CScript(txout_scriptPubKey))\n",
    "    tx = CMutableTransaction([txin], [txout])\n",
    "\n",
    "    # Sign the transaction\n",
    "    sighash = SignatureHash(CScript(txin_scriptPubKey), tx, 0, SIGHASH_ALL)\n",
    "    sig = my_secKey.sign(sighash) + bytes([SIGHASH_ALL])\n",
    "\n",
    "    txin.scriptSig = CScript([sig, my_secKey.pub])\n",
    "\n",
    "    VerifyScript(txin.scriptSig, CScript(txin_scriptPubKey), tx, 0, (SCRIPT_VERIFY_P2SH,))\n",
    "\n",
    "    raw_transaction = b2x(tx.serialize())\n",
    "    return raw_transaction\n",
    "\n",
    "def spend_P2MS_transaction(txid_to_spend, utxo_index, amount_to_send, fee, seckey1, seckey2, my_address, txin_scriptPubKey):\n",
    "  txin = CMutableTxIn(COutPoint(lx(txid_to_spend), utxo_index))\n",
    "  txout_scriptPubKey = P2PKH_scriptPubKey(str(my_address))\n",
    "  txout = CMutableTxOut((amount_to_send - fee) * COIN, CScript(txout_scriptPubKey))\n",
    "  tx = CMutableTransaction([txin], [txout])\n",
    "\n",
    "  # Sign the transaction\n",
    "  sighash = SignatureHash(CScript(txin_scriptPubKey), tx, 0, SIGHASH_ALL)\n",
    "\n",
    "  sig1 = seckey1.sign(sighash) + bytes([SIGHASH_ALL])\n",
    "  sig2 = seckey2.sign(sighash) + bytes([SIGHASH_ALL])\n",
    "\n",
    "  txin.scriptSig = CScript([0, sig1, sig2])\n",
    "\n",
    "  VerifyScript(txin.scriptSig, CScript(txin_scriptPubKey), tx, 0, (SCRIPT_VERIFY_P2SH,))\n",
    "\n",
    "  raw_transaction = b2x(tx.serialize())\n",
    "  return raw_transaction"
   ]
  },
  {
   "cell_type": "markdown",
   "metadata": {},
   "source": [
    "2.3: Custom Transaction (BitCoin Scripting)\n"
   ]
  },
  {
   "cell_type": "code",
   "execution_count": null,
   "metadata": {},
   "outputs": [
    {
     "ename": "TypeError",
     "evalue": "create_conditional_scriptPubKey() missing 4 required positional arguments: 'birth_year', 'current_year', 'hashed_password', and 'public_key'",
     "output_type": "error",
     "traceback": [
      "\u001b[0;31m---------------------------------------------------------------------------\u001b[0m",
      "\u001b[0;31mTypeError\u001b[0m                                 Traceback (most recent call last)",
      "Cell \u001b[0;32mIn[30], line 23\u001b[0m\n\u001b[1;32m     13\u001b[0m \u001b[38;5;28;01mdef\u001b[39;00m \u001b[38;5;21mcreate_conditional_scriptPubKey\u001b[39m(birth_year, current_year, hashed_password, public_key):\n\u001b[1;32m     14\u001b[0m     \u001b[38;5;28;01mreturn\u001b[39;00m [\n\u001b[1;32m     15\u001b[0m         OP_IF,\n\u001b[1;32m     16\u001b[0m             current_year, birth_year, OP_SUB, \u001b[38;5;241m18\u001b[39m, OP_GREATERTHAN,\n\u001b[0;32m   (...)\u001b[0m\n\u001b[1;32m     20\u001b[0m         public_key, OP_CHECKSIG\n\u001b[1;32m     21\u001b[0m     ]\n\u001b[0;32m---> 23\u001b[0m txin_scriptPubKey \u001b[38;5;241m=\u001b[39m \u001b[43mcreate_conditional_scriptPubKey\u001b[49m\u001b[43m(\u001b[49m\u001b[43m)\u001b[49m\n\u001b[1;32m     25\u001b[0m \u001b[38;5;28;01mdef\u001b[39;00m \u001b[38;5;21mcreate_initial_transaction\u001b[39m(txid_to_spend, utxo_index, amount_to_send, fee):\n\u001b[1;32m     26\u001b[0m     txin \u001b[38;5;241m=\u001b[39m CMutableTxIn(COutPoint(lx(txid_to_spend), utxo_index))\n",
      "\u001b[0;31mTypeError\u001b[0m: create_conditional_scriptPubKey() missing 4 required positional arguments: 'birth_year', 'current_year', 'hashed_password', and 'public_key'"
     ]
    }
   ],
   "source": [
    "# Create the conditional scriptPubKey\n",
    "def create_redeem_script(public_key):\n",
    "    hashed_password = sha256(b'StudentId').digest()  ## replace with actual student id\n",
    "    current_year = 0x7E8  ## 2024 = 0x7E8\n",
    "    legal_age = 0x12 ## 18 = 0x12\n",
    "    return [OP_IF,\n",
    "            current_year, OP_SWAP, OP_SUB, legal_age, OP_GREATERTHAN, OP_VERIFY,\n",
    "        OP_ELSE,\n",
    "            OP_SHA256, hashed_password, OP_EQUALVERIFY,\n",
    "        OP_ENDIF,\n",
    "        public_key, OP_CHECKSIG\n",
    "    ]\n",
    "\n",
    "def create_lock_script(redeem_script):\n",
    "    return [OP_HASH160, Hash160(CScript(redeem_script)), OP_EQUAL]\n",
    "\n",
    "def create_initial_transaction(txid_to_spend, utxo_index, amount_to_send, fee, dst_pubkey, my_secKey, txin_scriptPubKey):\n",
    "    txin = CMutableTxIn(COutPoint(lx(txid_to_spend), utxo_index))\n",
    "    redeem_script = create_redeem_script(dst_pubkey)\n",
    "    lock_script = create_lock_script(redeem_script)\n",
    "    txout = CMutableTxOut((amount_to_send - fee) * COIN, CScript(lock_script))\n",
    "    tx = CMutableTransaction([txin], [txout])\n",
    "\n",
    "    # Sign the transaction\n",
    "    sighash = SignatureHash(CScript(txin_scriptPubKey), tx, 0, SIGHASH_ALL)\n",
    "    sig = my_secKey.sign(sighash) + bytes([SIGHASH_ALL])\n",
    "\n",
    "    txin.scriptSig = CScript([sig, my_secKey.pub])\n",
    "\n",
    "    VerifyScript(txin.scriptSig, CScript(txin_scriptPubKey), tx, 0, (SCRIPT_VERIFY_P2SH,))\n",
    "\n",
    "    raw_transaction = b2x(tx.serialize())\n",
    "    return raw_transaction, lock_script\n",
    "\n",
    "def spend_by_verifying_age(txid_to_spend, utxo_index, amount_to_send, fee, birth_year, dst_address, my_secKey, lock_script):\n",
    "    txin = CMutableTxIn(COutPoint(lx(txid_to_spend), utxo_index))\n",
    "    txout = CMutableTxOut((amount_to_send - fee) * COIN, CScript(P2PKH_scriptPubKey(str(dst_address))))\n",
    "\n",
    "    redeem_script = create_redeem_script(my_secKey.pub)\n",
    "\n",
    "    tx = CMutableTransaction([txin], [txout])\n",
    "    sighash = SignatureHash(CScript(redeem_script), tx, 0, SIGHASH_ALL)\n",
    "    sig = my_secKey.sign(sighash) + bytes([SIGHASH_ALL])\n",
    "\n",
    "    # Create scriptSig\n",
    "    unlock_script = [sig, birth_year, OP_TRUE, CScript(redeem_script)]\n",
    "    txin.scriptSig = CScript(unlock_script)\n",
    "\n",
    "\n",
    "    VerifyScript(txin.scriptSig, CScript(lock_script), tx, 0, (SCRIPT_VERIFY_P2SH,))\n",
    "    raw_transaction = b2x(tx.serialize())\n",
    "    return raw_transaction\n",
    "\n",
    "\n",
    "def spend_by_providing_password(txid_to_spend, utxo_index, amount_to_send, fee, password, dst_address, my_secKey, lock_script):\n",
    "    txin = CMutableTxIn(COutPoint(lx(txid_to_spend), utxo_index))\n",
    "    txout = CMutableTxOut((amount_to_send - fee) * COIN, CScript(P2PKH_scriptPubKey(str(dst_address))))\n",
    "\n",
    "    redeem_script = create_redeem_script(my_secKey.pub)\n",
    "\n",
    "    tx = CMutableTransaction([txin], [txout])\n",
    "    sighash = SignatureHash(CScript(redeem_script), tx, 0, SIGHASH_ALL)\n",
    "    sig = my_secKey.sign(sighash) + bytes([SIGHASH_ALL])\n",
    "\n",
    "    # Create scriptSig\n",
    "    txin_scriptSig = [sig, password, OP_FALSE, CScript(redeem_script)]\n",
    "\n",
    "    txin.scriptSig = CScript(txin_scriptSig)\n",
    "    VerifyScript(txin.scriptSig, CScript(lock_script), tx, 0, (SCRIPT_VERIFY_P2SH,))\n",
    "\n",
    "\n",
    "    raw_transaction = b2x(tx.serialize())\n",
    "    return raw_transaction\n",
    "\n"
   ]
  }
 ],
 "metadata": {
  "kernelspec": {
   "display_name": "Python 3",
   "language": "python",
   "name": "python3"
  },
  "language_info": {
   "codemirror_mode": {
    "name": "ipython",
    "version": 3
   },
   "file_extension": ".py",
   "mimetype": "text/x-python",
   "name": "python",
   "nbconvert_exporter": "python",
   "pygments_lexer": "ipython3",
   "version": "3.9.6"
  }
 },
 "nbformat": 4,
 "nbformat_minor": 2
}
